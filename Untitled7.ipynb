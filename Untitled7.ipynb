{
  "nbformat": 4,
  "nbformat_minor": 0,
  "metadata": {
    "colab": {
      "name": "Untitled7.ipynb",
      "provenance": [],
      "collapsed_sections": []
    },
    "kernelspec": {
      "name": "python3",
      "display_name": "Python 3"
    }
  },
  "cells": [
    {
      "cell_type": "markdown",
      "metadata": {
        "id": "yUpA72wbWlnx"
      },
      "source": [
        "Importing Required Modules"
      ]
    },
    {
      "cell_type": "code",
      "metadata": {
        "id": "YowZT9i3qq_6"
      },
      "source": [
        "import numpy as np\r\n",
        "import pandas as pd\r\n",
        "from numpy import set_printoptions\r\n",
        "from sklearn.feature_selection import RFE\r\n",
        "from sklearn.linear_model import LogisticRegression\r\n",
        "from sklearn.model_selection import train_test_split\r\n",
        "#Import Random Forest Model\r\n",
        "from sklearn.ensemble import RandomForestClassifier\r\n",
        "#Import scikit-learn metrics module for accuracy calculation\r\n",
        "from sklearn import metrics\r\n",
        "import matplotlib.pyplot as plt\r\n",
        "import seaborn as sns"
      ],
      "execution_count": null,
      "outputs": []
    },
    {
      "cell_type": "code",
      "metadata": {
        "colab": {
          "base_uri": "https://localhost:8080/",
          "height": 195
        },
        "id": "6esVTd5Vq3V4",
        "outputId": "c1b352ec-911e-40a8-e19a-6630fb736445"
      },
      "source": [
        "data=pd.read_csv('/content/10.csv')\r\n",
        "data.head()"
      ],
      "execution_count": null,
      "outputs": [
        {
          "output_type": "execute_result",
          "data": {
            "text/html": [
              "<div>\n",
              "<style scoped>\n",
              "    .dataframe tbody tr th:only-of-type {\n",
              "        vertical-align: middle;\n",
              "    }\n",
              "\n",
              "    .dataframe tbody tr th {\n",
              "        vertical-align: top;\n",
              "    }\n",
              "\n",
              "    .dataframe thead th {\n",
              "        text-align: right;\n",
              "    }\n",
              "</style>\n",
              "<table border=\"1\" class=\"dataframe\">\n",
              "  <thead>\n",
              "    <tr style=\"text-align: right;\">\n",
              "      <th></th>\n",
              "      <th>age</th>\n",
              "      <th>anaemia</th>\n",
              "      <th>creatinine_phosphokinase</th>\n",
              "      <th>diabetes</th>\n",
              "      <th>ejection_fraction</th>\n",
              "      <th>high_blood_pressure</th>\n",
              "      <th>platelets</th>\n",
              "      <th>serum_creatinine</th>\n",
              "      <th>serum_sodium</th>\n",
              "      <th>sex</th>\n",
              "      <th>smoking</th>\n",
              "      <th>time</th>\n",
              "      <th>DEATH_EVENT</th>\n",
              "    </tr>\n",
              "  </thead>\n",
              "  <tbody>\n",
              "    <tr>\n",
              "      <th>0</th>\n",
              "      <td>75.0</td>\n",
              "      <td>0</td>\n",
              "      <td>582</td>\n",
              "      <td>0</td>\n",
              "      <td>20</td>\n",
              "      <td>1</td>\n",
              "      <td>265000.00</td>\n",
              "      <td>1.9</td>\n",
              "      <td>130</td>\n",
              "      <td>1</td>\n",
              "      <td>0</td>\n",
              "      <td>4</td>\n",
              "      <td>1</td>\n",
              "    </tr>\n",
              "    <tr>\n",
              "      <th>1</th>\n",
              "      <td>55.0</td>\n",
              "      <td>0</td>\n",
              "      <td>7861</td>\n",
              "      <td>0</td>\n",
              "      <td>38</td>\n",
              "      <td>0</td>\n",
              "      <td>263358.03</td>\n",
              "      <td>1.1</td>\n",
              "      <td>136</td>\n",
              "      <td>1</td>\n",
              "      <td>0</td>\n",
              "      <td>6</td>\n",
              "      <td>1</td>\n",
              "    </tr>\n",
              "    <tr>\n",
              "      <th>2</th>\n",
              "      <td>65.0</td>\n",
              "      <td>0</td>\n",
              "      <td>146</td>\n",
              "      <td>0</td>\n",
              "      <td>20</td>\n",
              "      <td>0</td>\n",
              "      <td>162000.00</td>\n",
              "      <td>1.3</td>\n",
              "      <td>129</td>\n",
              "      <td>1</td>\n",
              "      <td>1</td>\n",
              "      <td>7</td>\n",
              "      <td>1</td>\n",
              "    </tr>\n",
              "    <tr>\n",
              "      <th>3</th>\n",
              "      <td>50.0</td>\n",
              "      <td>1</td>\n",
              "      <td>111</td>\n",
              "      <td>0</td>\n",
              "      <td>20</td>\n",
              "      <td>0</td>\n",
              "      <td>210000.00</td>\n",
              "      <td>1.9</td>\n",
              "      <td>137</td>\n",
              "      <td>1</td>\n",
              "      <td>0</td>\n",
              "      <td>7</td>\n",
              "      <td>1</td>\n",
              "    </tr>\n",
              "    <tr>\n",
              "      <th>4</th>\n",
              "      <td>65.0</td>\n",
              "      <td>1</td>\n",
              "      <td>160</td>\n",
              "      <td>1</td>\n",
              "      <td>20</td>\n",
              "      <td>0</td>\n",
              "      <td>327000.00</td>\n",
              "      <td>2.7</td>\n",
              "      <td>116</td>\n",
              "      <td>0</td>\n",
              "      <td>0</td>\n",
              "      <td>8</td>\n",
              "      <td>1</td>\n",
              "    </tr>\n",
              "  </tbody>\n",
              "</table>\n",
              "</div>"
            ],
            "text/plain": [
              "    age  anaemia  creatinine_phosphokinase  ...  smoking  time  DEATH_EVENT\n",
              "0  75.0        0                       582  ...        0     4            1\n",
              "1  55.0        0                      7861  ...        0     6            1\n",
              "2  65.0        0                       146  ...        1     7            1\n",
              "3  50.0        1                       111  ...        0     7            1\n",
              "4  65.0        1                       160  ...        0     8            1\n",
              "\n",
              "[5 rows x 13 columns]"
            ]
          },
          "metadata": {
            "tags": []
          },
          "execution_count": 114
        }
      ]
    },
    {
      "cell_type": "code",
      "metadata": {
        "colab": {
          "base_uri": "https://localhost:8080/"
        },
        "id": "CghIbDubXqpH",
        "outputId": "79394a41-4678-4feb-fd54-f79fbc57dd09"
      },
      "source": [
        "print(data.columns)"
      ],
      "execution_count": null,
      "outputs": [
        {
          "output_type": "stream",
          "text": [
            "Index(['age', 'anaemia', 'creatinine_phosphokinase', 'diabetes',\n",
            "       'ejection_fraction', 'high_blood_pressure', 'platelets',\n",
            "       'serum_creatinine', 'serum_sodium', 'sex', 'smoking', 'time',\n",
            "       'DEATH_EVENT'],\n",
            "      dtype='object')\n"
          ],
          "name": "stdout"
        }
      ]
    },
    {
      "cell_type": "code",
      "metadata": {
        "colab": {
          "base_uri": "https://localhost:8080/"
        },
        "id": "cg-uEu8ErSks",
        "outputId": "4b28c093-037e-4d0e-eea9-775dd6cc56e8"
      },
      "source": [
        "data.shape"
      ],
      "execution_count": null,
      "outputs": [
        {
          "output_type": "execute_result",
          "data": {
            "text/plain": [
              "(299, 13)"
            ]
          },
          "metadata": {
            "tags": []
          },
          "execution_count": 4
        }
      ]
    },
    {
      "cell_type": "code",
      "metadata": {
        "colab": {
          "base_uri": "https://localhost:8080/"
        },
        "id": "VJnhk580H70b",
        "outputId": "fdfdd7d1-7174-47e2-ca4c-d961807822af"
      },
      "source": [
        "features1=data.drop(columns='DEATH_EVENT')\r\n",
        "target1=data['DEATH_EVENT']\r\n",
        "print(features1.head)\r\n",
        "print(target1.head)"
      ],
      "execution_count": null,
      "outputs": [
        {
          "output_type": "stream",
          "text": [
            "<bound method NDFrame.head of       age  anaemia  creatinine_phosphokinase  ...  sex  smoking  time\n",
            "0    75.0        0                       582  ...    1        0     4\n",
            "1    55.0        0                      7861  ...    1        0     6\n",
            "2    65.0        0                       146  ...    1        1     7\n",
            "3    50.0        1                       111  ...    1        0     7\n",
            "4    65.0        1                       160  ...    0        0     8\n",
            "..    ...      ...                       ...  ...  ...      ...   ...\n",
            "294  62.0        0                        61  ...    1        1   270\n",
            "295  55.0        0                      1820  ...    0        0   271\n",
            "296  45.0        0                      2060  ...    0        0   278\n",
            "297  45.0        0                      2413  ...    1        1   280\n",
            "298  50.0        0                       196  ...    1        1   285\n",
            "\n",
            "[299 rows x 12 columns]>\n",
            "<bound method NDFrame.head of 0      1\n",
            "1      1\n",
            "2      1\n",
            "3      1\n",
            "4      1\n",
            "      ..\n",
            "294    0\n",
            "295    0\n",
            "296    0\n",
            "297    0\n",
            "298    0\n",
            "Name: DEATH_EVENT, Length: 299, dtype: int64>\n"
          ],
          "name": "stdout"
        }
      ]
    },
    {
      "cell_type": "code",
      "metadata": {
        "id": "fwDmXa8XIg-P"
      },
      "source": [
        "X_train1, X_test1, y_train1, y_test1 = train_test_split(features1, target1, test_size=0.3)"
      ],
      "execution_count": null,
      "outputs": []
    },
    {
      "cell_type": "code",
      "metadata": {
        "id": "TC9OTvZDIoG7"
      },
      "source": [
        "#Create a Gaussian Classifier\r\n",
        "clf=RandomForestClassifier(n_estimators=200)\r\n",
        "\r\n",
        "clf.fit(X_train1,y_train1)\r\n",
        "\r\n",
        "y_pred1=clf.predict(X_test1)"
      ],
      "execution_count": null,
      "outputs": []
    },
    {
      "cell_type": "code",
      "metadata": {
        "colab": {
          "base_uri": "https://localhost:8080/"
        },
        "id": "Wd7TJAw-I5ik",
        "outputId": "87d66eb3-73de-4059-9635-46b970e4321c"
      },
      "source": [
        "# Model Accuracy, how often is the classifier correct?\r\n",
        "print(\"Accuracy:\",metrics.accuracy_score(y_test1, y_pred1))"
      ],
      "execution_count": null,
      "outputs": [
        {
          "output_type": "stream",
          "text": [
            "Accuracy: 0.8888888888888888\n"
          ],
          "name": "stdout"
        }
      ]
    },
    {
      "cell_type": "code",
      "metadata": {
        "colab": {
          "base_uri": "https://localhost:8080/"
        },
        "id": "vCjOW2jJJUEG",
        "outputId": "ae8efe17-070f-422c-8bd1-3f682c450fd1"
      },
      "source": [
        "from sklearn.ensemble import RandomForestClassifier\r\n",
        "\r\n",
        "#Create a Gaussian Classifier\r\n",
        "clf=RandomForestClassifier(n_estimators=200)\r\n",
        "\r\n",
        "#Train the model using the training sets y_pred=clf.predict(X_test)\r\n",
        "clf.fit(X_train1,y_train1)"
      ],
      "execution_count": null,
      "outputs": [
        {
          "output_type": "execute_result",
          "data": {
            "text/plain": [
              "RandomForestClassifier(bootstrap=True, ccp_alpha=0.0, class_weight=None,\n",
              "                       criterion='gini', max_depth=None, max_features='auto',\n",
              "                       max_leaf_nodes=None, max_samples=None,\n",
              "                       min_impurity_decrease=0.0, min_impurity_split=None,\n",
              "                       min_samples_leaf=1, min_samples_split=2,\n",
              "                       min_weight_fraction_leaf=0.0, n_estimators=200,\n",
              "                       n_jobs=None, oob_score=False, random_state=None,\n",
              "                       verbose=0, warm_start=False)"
            ]
          },
          "metadata": {
            "tags": []
          },
          "execution_count": 69
        }
      ]
    },
    {
      "cell_type": "code",
      "metadata": {
        "colab": {
          "base_uri": "https://localhost:8080/"
        },
        "id": "EqOZW_E5JaJ0",
        "outputId": "7caba56f-9551-47e8-9396-f746fadbf74e"
      },
      "source": [
        "import pandas as pd\r\n",
        "feature_imp = pd.Series(clf.feature_importances_,index=features1.columns).sort_values(ascending=False)\r\n",
        "feature_imp"
      ],
      "execution_count": null,
      "outputs": [
        {
          "output_type": "execute_result",
          "data": {
            "text/plain": [
              "time                        0.288309\n",
              "serum_creatinine            0.150755\n",
              "ejection_fraction           0.132958\n",
              "age                         0.103095\n",
              "serum_sodium                0.087775\n",
              "platelets                   0.086909\n",
              "creatinine_phosphokinase    0.077875\n",
              "sex                         0.015322\n",
              "high_blood_pressure         0.015307\n",
              "anaemia                     0.014383\n",
              "smoking                     0.013801\n",
              "diabetes                    0.013511\n",
              "dtype: float64"
            ]
          },
          "metadata": {
            "tags": []
          },
          "execution_count": 71
        }
      ]
    },
    {
      "cell_type": "code",
      "metadata": {
        "colab": {
          "base_uri": "https://localhost:8080/",
          "height": 312
        },
        "id": "U_qNKyf0JkXf",
        "outputId": "539a6d6d-e775-4a89-f4ce-a52cab54d2f9"
      },
      "source": [
        "%matplotlib inline\r\n",
        "# Creating a bar plot\r\n",
        "sns.barplot(x=feature_imp, y=feature_imp.index)\r\n",
        "# Add labels to your graph\r\n",
        "plt.xlabel('Feature Importance Score')\r\n",
        "plt.ylabel('Features')\r\n",
        "plt.title(\"Visualizing Important Features\")\r\n",
        "plt.legend()\r\n",
        "plt.show()"
      ],
      "execution_count": null,
      "outputs": [
        {
          "output_type": "stream",
          "text": [
            "No handles with labels found to put in legend.\n"
          ],
          "name": "stderr"
        },
        {
          "output_type": "display_data",
          "data": {
            "image/png": "[encoded data removed]",
            "text/plain": [
              "<Figure size 432x288 with 1 Axes>"
            ]
          },
          "metadata": {
            "tags": [],
            "needs_background": "light"
          }
        }
      ]
    },
    {
      "cell_type": "code",
      "metadata": {
        "colab": {
          "base_uri": "https://localhost:8080/"
        },
        "id": "GBn3DJ505ni_",
        "outputId": "8b976dd6-25c2-48cf-8944-a6ff2e2d50b5"
      },
      "source": [
        "model = LogisticRegression(solver='lbfgs')\r\n",
        "fit = rfe.fit(features, target)\r\n",
        "print(\"Num Features: %d\" % fit.n_features_)\r\n",
        "print(\"Selected Features: %s\" % fit.support_)\r\n",
        "print(\"Feature Ranking: %s\" % fit.ranking_)\r\n",
        "print(data.columns)"
      ],
      "execution_count": null,
      "outputs": [
        {
          "output_type": "stream",
          "text": [
            "Num Features: 7\n",
            "Selected Features: [ True  True False  True  True  True  True  True False False]\n",
            "Feature Ranking: [1 1 4 1 1 1 1 1 2 3]\n",
            "Index(['age', 'anaemia', 'creatinine_phosphokinase', 'diabetes',\n",
            "       'ejection_fraction', 'high_blood_pressure', 'platelets',\n",
            "       'serum_creatinine', 'serum_sodium', 'sex', 'smoking', 'time',\n",
            "       'DEATH_EVENT'],\n",
            "      dtype='object')\n"
          ],
          "name": "stdout"
        },
        {
          "output_type": "stream",
          "text": [
            "/usr/local/lib/python3.6/dist-packages/sklearn/linear_model/_logistic.py:940: ConvergenceWarning: lbfgs failed to converge (status=1):\n",
            "STOP: TOTAL NO. of ITERATIONS REACHED LIMIT.\n",
            "\n",
            "Increase the number of iterations (max_iter) or scale the data as shown in:\n",
            "    https://scikit-learn.org/stable/modules/preprocessing.html\n",
            "Please also refer to the documentation for alternative solver options:\n",
            "    https://scikit-learn.org/stable/modules/linear_model.html#logistic-regression\n",
            "  extra_warning_msg=_LOGISTIC_SOLVER_CONVERGENCE_MSG)\n",
            "/usr/local/lib/python3.6/dist-packages/sklearn/linear_model/_logistic.py:940: ConvergenceWarning: lbfgs failed to converge (status=1):\n",
            "STOP: TOTAL NO. of ITERATIONS REACHED LIMIT.\n",
            "\n",
            "Increase the number of iterations (max_iter) or scale the data as shown in:\n",
            "    https://scikit-learn.org/stable/modules/preprocessing.html\n",
            "Please also refer to the documentation for alternative solver options:\n",
            "    https://scikit-learn.org/stable/modules/linear_model.html#logistic-regression\n",
            "  extra_warning_msg=_LOGISTIC_SOLVER_CONVERGENCE_MSG)\n"
          ],
          "name": "stderr"
        }
      ]
    },
    {
      "cell_type": "code",
      "metadata": {
        "colab": {
          "base_uri": "https://localhost:8080/"
        },
        "id": "QqMCeqCs6ER_",
        "outputId": "1b292cf2-8e5b-4b0b-ba25-b74a54b00c44"
      },
      "source": [
        "col=['platelets','serum_sodium','DEATH_EVENT']\r\n",
        "features=data.drop(columns=col)\r\n",
        "target=data['DEATH_EVENT']\r\n",
        "features.head"
      ],
      "execution_count": null,
      "outputs": [
        {
          "output_type": "execute_result",
          "data": {
            "text/plain": [
              "<bound method NDFrame.head of       age  anaemia  creatinine_phosphokinase  ...  sex  smoking  time\n",
              "0    75.0        0                       582  ...    1        0     4\n",
              "1    55.0        0                      7861  ...    1        0     6\n",
              "2    65.0        0                       146  ...    1        1     7\n",
              "3    50.0        1                       111  ...    1        0     7\n",
              "4    65.0        1                       160  ...    0        0     8\n",
              "..    ...      ...                       ...  ...  ...      ...   ...\n",
              "294  62.0        0                        61  ...    1        1   270\n",
              "295  55.0        0                      1820  ...    0        0   271\n",
              "296  45.0        0                      2060  ...    0        0   278\n",
              "297  45.0        0                      2413  ...    1        1   280\n",
              "298  50.0        0                       196  ...    1        1   285\n",
              "\n",
              "[299 rows x 10 columns]>"
            ]
          },
          "metadata": {
            "tags": []
          },
          "execution_count": 99
        }
      ]
    },
    {
      "cell_type": "code",
      "metadata": {
        "id": "aNc-w8kp-fp0"
      },
      "source": [
        "X_train, X_test, y_train, y_test = train_test_split(features, target, test_size=0.3)"
      ],
      "execution_count": null,
      "outputs": []
    },
    {
      "cell_type": "code",
      "metadata": {
        "id": "QoKFIbNRHNOK"
      },
      "source": [
        "#Import Random Forest Model\r\n",
        "from sklearn.ensemble import RandomForestClassifier\r\n",
        "\r\n",
        "#Create a Gaussian Classifier\r\n",
        "clf=RandomForestClassifier(n_estimators=200)\r\n",
        "\r\n",
        "#Train the model using the training sets y_pred=clf.predict(X_test)\r\n",
        "clf.fit(X_train,y_train)\r\n",
        "\r\n",
        "y_pred=clf.predict(X_test)"
      ],
      "execution_count": null,
      "outputs": []
    },
    {
      "cell_type": "code",
      "metadata": {
        "colab": {
          "base_uri": "https://localhost:8080/"
        },
        "id": "lxkFqsavHST-",
        "outputId": "8907af0a-baac-408f-aeae-dd6c0f21c064"
      },
      "source": [
        "#Import scikit-learn metrics module for accuracy calculation\r\n",
        "from sklearn import metrics\r\n",
        "# Model Accuracy, how often is the classifier correct?\r\n",
        "print(\"Accuracy:\",metrics.accuracy_score(y_test, y_pred))"
      ],
      "execution_count": null,
      "outputs": [
        {
          "output_type": "stream",
          "text": [
            "Accuracy: 0.8222222222222222\n"
          ],
          "name": "stdout"
        }
      ]
    },
    {
      "cell_type": "code",
      "metadata": {
        "colab": {
          "base_uri": "https://localhost:8080/"
        },
        "id": "7KjWlZzqMApq",
        "outputId": "c23baa19-28bc-43c3-c20c-2c938baa4bde"
      },
      "source": [
        "from sklearn.ensemble import RandomForestClassifier\r\n",
        "\r\n",
        "#Create a Gaussian Classifier\r\n",
        "clf=RandomForestClassifier(n_estimators=100)\r\n",
        "\r\n",
        "clf.fit(X_train,y_train)"
      ],
      "execution_count": null,
      "outputs": [
        {
          "output_type": "execute_result",
          "data": {
            "text/plain": [
              "RandomForestClassifier(bootstrap=True, ccp_alpha=0.0, class_weight=None,\n",
              "                       criterion='gini', max_depth=None, max_features='auto',\n",
              "                       max_leaf_nodes=None, max_samples=None,\n",
              "                       min_impurity_decrease=0.0, min_impurity_split=None,\n",
              "                       min_samples_leaf=1, min_samples_split=2,\n",
              "                       min_weight_fraction_leaf=0.0, n_estimators=100,\n",
              "                       n_jobs=None, oob_score=False, random_state=None,\n",
              "                       verbose=0, warm_start=False)"
            ]
          },
          "metadata": {
            "tags": []
          },
          "execution_count": 104
        }
      ]
    },
    {
      "cell_type": "code",
      "metadata": {
        "colab": {
          "base_uri": "https://localhost:8080/"
        },
        "id": "ysUzmlbJMOsp",
        "outputId": "beb8af1f-ee9e-42e5-a983-0f344a3767b8"
      },
      "source": [
        "feature_imp = pd.Series(clf.feature_importances_,index=features.columns).sort_values(ascending=False)\r\n",
        "feature_imp"
      ],
      "execution_count": null,
      "outputs": [
        {
          "output_type": "execute_result",
          "data": {
            "text/plain": [
              "time                   0.409766\n",
              "serum_creatinine       0.215376\n",
              "ejection_fraction      0.176910\n",
              "age                    0.107529\n",
              "high_blood_pressure    0.020779\n",
              "anaemia                0.020592\n",
              "diabetes               0.016639\n",
              "sex                    0.016584\n",
              "smoking                0.015825\n",
              "dtype: float64"
            ]
          },
          "metadata": {
            "tags": []
          },
          "execution_count": 86
        }
      ]
    },
    {
      "cell_type": "code",
      "metadata": {
        "colab": {
          "base_uri": "https://localhost:8080/",
          "height": 312
        },
        "id": "nX4RDaOOL-4l",
        "outputId": "dd153fba-aa48-4f73-e1eb-160db2de0f78"
      },
      "source": [
        "%matplotlib inline\r\n",
        "# Creating a bar plot\r\n",
        "sns.barplot(x=feature_imp, y=feature_imp.index)\r\n",
        "# Add labels to your graph\r\n",
        "plt.xlabel('Feature Importance Score')\r\n",
        "plt.ylabel('Features')\r\n",
        "plt.title(\"Visualizing Important Features\")\r\n",
        "plt.legend()\r\n",
        "plt.show()"
      ],
      "execution_count": null,
      "outputs": [
        {
          "output_type": "stream",
          "text": [
            "No handles with labels found to put in legend.\n"
          ],
          "name": "stderr"
        },
        {
          "output_type": "display_data",
          "data": {
            "image/png": "[encoded data removed]",
            "text/plain": [
              "<Figure size 432x288 with 1 Axes>"
            ]
          },
          "metadata": {
            "tags": [],
            "needs_background": "light"
          }
        }
      ]
    },
    {
      "cell_type": "code",
      "metadata": {
        "colab": {
          "base_uri": "https://localhost:8080/",
          "height": 527
        },
        "id": "TNkqCy58QIRz",
        "outputId": "e507fae3-2ff7-404f-ee02-eaa8c8abd55f"
      },
      "source": [
        "fig, ax = plt.subplots(figsize=(10,6))\r\n",
        "sns.heatmap(data.corr(), center=0)\r\n",
        "ax.set_title('Multi-Collinearity of HEART failure prediction Attributes')"
      ],
      "execution_count": null,
      "outputs": [
        {
          "output_type": "execute_result",
          "data": {
            "text/plain": [
              "Text(0.5, 1.0, 'Multi-Collinearity of HEART failure prediction Attributes')"
            ]
          },
          "metadata": {
            "tags": []
          },
          "execution_count": 107
        },
        {
          "output_type": "display_data",
          "data": {
            "image/png": "[encoded data removed]",
            "text/plain": [
              "<Figure size 720x432 with 2 Axes>"
            ]
          },
          "metadata": {
            "tags": [],
            "needs_background": "light"
          }
        }
      ]
    },
    {
      "cell_type": "code",
      "metadata": {
        "colab": {
          "base_uri": "https://localhost:8080/",
          "height": 315
        },
        "id": "JklKF5ira7Hn",
        "outputId": "83a38fbb-3d1c-47f6-bfe3-6285edce0b31"
      },
      "source": [
        "plt.hist(target)"
      ],
      "execution_count": null,
      "outputs": [
        {
          "output_type": "execute_result",
          "data": {
            "text/plain": [
              "(array([203.,   0.,   0.,   0.,   0.,   0.,   0.,   0.,   0.,  96.]),\n",
              " array([0. , 0.1, 0.2, 0.3, 0.4, 0.5, 0.6, 0.7, 0.8, 0.9, 1. ]),\n",
              " <a list of 10 Patch objects>)"
            ]
          },
          "metadata": {
            "tags": []
          },
          "execution_count": 116
        },
        {
          "output_type": "display_data",
          "data": {
            "image/png": "[encoded data removed]",
            "text/plain": [
              "<Figure size 432x288 with 1 Axes>"
            ]
          },
          "metadata": {
            "tags": [],
            "needs_background": "light"
          }
        }
      ]
    },
    {
      "cell_type": "code",
      "metadata": {
        "id": "DFpu1ATwhyRw"
      },
      "source": [
        ""
      ],
      "execution_count": null,
      "outputs": []
    }
  ]
}