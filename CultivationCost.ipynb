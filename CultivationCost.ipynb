{
  "nbformat": 4,
  "nbformat_minor": 0,
  "metadata": {
    "colab": {
      "name": "CultivationCost.ipynb",
      "provenance": [],
      "authorship_tag": "ABX9TyOsQFpf7lQpnuibjjjlRScm",
      "include_colab_link": true
    },
    "kernelspec": {
      "name": "python3",
      "display_name": "Python 3"
    },
    "language_info": {
      "name": "python"
    }
  },
  "cells": [
    {
      "cell_type": "markdown",
      "metadata": {
        "id": "view-in-github",
        "colab_type": "text"
      },
      "source": [
        "<a href=\"https://colab.research.google.com/github/SowmyaMadala/ML-Projects/blob/main/CultivationCost.ipynb\" target=\"_parent\"><img src=\"https://colab.research.google.com/assets/colab-badge.svg\" alt=\"Open In Colab\"/></a>"
      ]
    },
    {
      "cell_type": "code",
      "metadata": {
        "id": "1RAkjgQVIJ8E"
      },
      "source": [
        "import pandas as pd\n",
        "import numpy as np\n",
        "from sklearn import preprocessing\n",
        "from sklearn.model_selection import train_test_split\n",
        "from sklearn.metrics import mean_squared_error,r2_score\n",
        "import math\n",
        "import seaborn as sb\n",
        "import matplotlib.pyplot as plt"
      ],
      "execution_count": 1,
      "outputs": []
    },
    {
      "cell_type": "code",
      "metadata": {
        "colab": {
          "base_uri": "https://localhost:8080/",
          "height": 250
        },
        "id": "k-9RCyggI2lu",
        "outputId": "ca649cdb-2eee-483d-b667-1e13a7f17461"
      },
      "source": [
        "data=pd.read_csv('/content/datafile (1).csv')\n",
        "data.sample(5)"
      ],
      "execution_count": 58,
      "outputs": [
        {
          "output_type": "execute_result",
          "data": {
            "text/html": [
              "<div>\n",
              "<style scoped>\n",
              "    .dataframe tbody tr th:only-of-type {\n",
              "        vertical-align: middle;\n",
              "    }\n",
              "\n",
              "    .dataframe tbody tr th {\n",
              "        vertical-align: top;\n",
              "    }\n",
              "\n",
              "    .dataframe thead th {\n",
              "        text-align: right;\n",
              "    }\n",
              "</style>\n",
              "<table border=\"1\" class=\"dataframe\">\n",
              "  <thead>\n",
              "    <tr style=\"text-align: right;\">\n",
              "      <th></th>\n",
              "      <th>Crop</th>\n",
              "      <th>State</th>\n",
              "      <th>Cost of Cultivation (`/Hectare) A2+FL</th>\n",
              "      <th>Cost of Cultivation (`/Hectare) C2</th>\n",
              "      <th>Cost of Production (`/Quintal) C2</th>\n",
              "      <th>Yield (Quintal/ Hectare)</th>\n",
              "    </tr>\n",
              "  </thead>\n",
              "  <tbody>\n",
              "    <tr>\n",
              "      <th>16</th>\n",
              "      <td>GROUNDNUT</td>\n",
              "      <td>Andhra Pradesh</td>\n",
              "      <td>21229.01</td>\n",
              "      <td>30434.61</td>\n",
              "      <td>2554.91</td>\n",
              "      <td>11.97</td>\n",
              "    </tr>\n",
              "    <tr>\n",
              "      <th>2</th>\n",
              "      <td>ARHAR</td>\n",
              "      <td>Gujarat</td>\n",
              "      <td>13468.82</td>\n",
              "      <td>19551.90</td>\n",
              "      <td>1898.30</td>\n",
              "      <td>9.59</td>\n",
              "    </tr>\n",
              "    <tr>\n",
              "      <th>0</th>\n",
              "      <td>ARHAR</td>\n",
              "      <td>Uttar Pradesh</td>\n",
              "      <td>9794.05</td>\n",
              "      <td>23076.74</td>\n",
              "      <td>1941.55</td>\n",
              "      <td>9.83</td>\n",
              "    </tr>\n",
              "    <tr>\n",
              "      <th>26</th>\n",
              "      <td>MOONG</td>\n",
              "      <td>Rajasthan</td>\n",
              "      <td>6204.23</td>\n",
              "      <td>9165.59</td>\n",
              "      <td>2068.67</td>\n",
              "      <td>4.05</td>\n",
              "    </tr>\n",
              "    <tr>\n",
              "      <th>32</th>\n",
              "      <td>PADDY</td>\n",
              "      <td>West Bengal</td>\n",
              "      <td>24731.06</td>\n",
              "      <td>33046.12</td>\n",
              "      <td>731.25</td>\n",
              "      <td>39.04</td>\n",
              "    </tr>\n",
              "  </tbody>\n",
              "</table>\n",
              "</div>"
            ],
            "text/plain": [
              "         Crop  ... Yield (Quintal/ Hectare) \n",
              "16  GROUNDNUT  ...                     11.97\n",
              "2       ARHAR  ...                      9.59\n",
              "0       ARHAR  ...                      9.83\n",
              "26      MOONG  ...                      4.05\n",
              "32      PADDY  ...                     39.04\n",
              "\n",
              "[5 rows x 6 columns]"
            ]
          },
          "metadata": {
            "tags": []
          },
          "execution_count": 58
        }
      ]
    },
    {
      "cell_type": "code",
      "metadata": {
        "colab": {
          "base_uri": "https://localhost:8080/"
        },
        "id": "HuSQMuEwJijr",
        "outputId": "a618c621-5fbe-4e82-a272-41efd0fab6aa"
      },
      "source": [
        "data.columns\n",
        "data=data.dropna()\n",
        "data.shape"
      ],
      "execution_count": 59,
      "outputs": [
        {
          "output_type": "execute_result",
          "data": {
            "text/plain": [
              "(49, 6)"
            ]
          },
          "metadata": {
            "tags": []
          },
          "execution_count": 59
        }
      ]
    },
    {
      "cell_type": "code",
      "metadata": {
        "id": "dCaok6DIJFpm"
      },
      "source": [
        "#data=data.loc[data['State']=='Andhra Pradesh']\n",
        "#data=data.drop(columns='State')\n",
        "#data.sample(5)"
      ],
      "execution_count": 60,
      "outputs": []
    },
    {
      "cell_type": "code",
      "metadata": {
        "id": "cQEZn_wgK0SO"
      },
      "source": [
        "label_encoder=preprocessing.LabelEncoder()\n",
        "data['Crop']= label_encoder.fit_transform(data['Crop'])\n",
        "data['State']= label_encoder.fit_transform(data['State'])"
      ],
      "execution_count": 61,
      "outputs": []
    },
    {
      "cell_type": "code",
      "metadata": {
        "colab": {
          "base_uri": "https://localhost:8080/",
          "height": 463
        },
        "id": "2lWnfjRyJxtK",
        "outputId": "d64e88a7-baf2-4692-ddd5-990104ac979b"
      },
      "source": [
        "corr=data.corr()\n",
        "sb.heatmap(corr,annot = True , cmap = 'YlGnBu')"
      ],
      "execution_count": 62,
      "outputs": [
        {
          "output_type": "execute_result",
          "data": {
            "text/plain": [
              "<matplotlib.axes._subplots.AxesSubplot at 0x7f9e65dee4d0>"
            ]
          },
          "metadata": {
            "tags": []
          },
          "execution_count": 62
        },
        {
          "output_type": "display_data",
          "data": {
            "image/png": "[encoded data removed]",
            "text/plain": [
              "<Figure size 432x288 with 2 Axes>"
            ]
          },
          "metadata": {
            "tags": [],
            "needs_background": "light"
          }
        }
      ]
    },
    {
      "cell_type": "code",
      "metadata": {
        "id": "Otm8dO8pKWZ0"
      },
      "source": [
        "col=['Cost of Cultivation (`/Hectare) A2+FL','Cost of Cultivation (`/Hectare) C2','Cost of Production (`/Quintal) C2','State']\n",
        "X=data.drop(columns=col)\n",
        "Y=data['Cost of Cultivation (`/Hectare) A2+FL']"
      ],
      "execution_count": 66,
      "outputs": []
    },
    {
      "cell_type": "code",
      "metadata": {
        "id": "5X8AxB8HL6OO"
      },
      "source": [
        "X_train,X_test,y_train,y_test=train_test_split(X,Y)"
      ],
      "execution_count": 73,
      "outputs": []
    },
    {
      "cell_type": "code",
      "metadata": {
        "colab": {
          "base_uri": "https://localhost:8080/"
        },
        "id": "56RyH6sRL_cs",
        "outputId": "8b021624-fd88-476d-e5c7-799898456c41"
      },
      "source": [
        "from sklearn.linear_model import LinearRegression\n",
        "model = LinearRegression()\n",
        "model.fit(X_train,y_train)\n",
        "y_pred=model.predict(X_test)\n",
        "#r-squared for finding the fitness of the data\n",
        "print(r2_score(y_test,y_pred))"
      ],
      "execution_count": 74,
      "outputs": [
        {
          "output_type": "stream",
          "text": [
            "0.8726379117751326\n"
          ],
          "name": "stdout"
        }
      ]
    },
    {
      "cell_type": "code",
      "metadata": {
        "colab": {
          "base_uri": "https://localhost:8080/",
          "height": 198
        },
        "id": "WU8kBnuvN1WP",
        "outputId": "697cc6d1-56b3-476d-a475-650575099ef4"
      },
      "source": [
        "col=['Cost of Cultivation (`/Hectare) A2+FL','Cost of Cultivation (`/Hectare) C2','Cost of Production (`/Quintal) C2','Crop']\n",
        "X=data.drop(columns=col)\n",
        "Y=data['Cost of Cultivation (`/Hectare) C2']\n",
        "X.head()"
      ],
      "execution_count": 75,
      "outputs": [
        {
          "output_type": "execute_result",
          "data": {
            "text/html": [
              "<div>\n",
              "<style scoped>\n",
              "    .dataframe tbody tr th:only-of-type {\n",
              "        vertical-align: middle;\n",
              "    }\n",
              "\n",
              "    .dataframe tbody tr th {\n",
              "        vertical-align: top;\n",
              "    }\n",
              "\n",
              "    .dataframe thead th {\n",
              "        text-align: right;\n",
              "    }\n",
              "</style>\n",
              "<table border=\"1\" class=\"dataframe\">\n",
              "  <thead>\n",
              "    <tr style=\"text-align: right;\">\n",
              "      <th></th>\n",
              "      <th>State</th>\n",
              "      <th>Yield (Quintal/ Hectare)</th>\n",
              "    </tr>\n",
              "  </thead>\n",
              "  <tbody>\n",
              "    <tr>\n",
              "      <th>0</th>\n",
              "      <td>11</td>\n",
              "      <td>9.83</td>\n",
              "    </tr>\n",
              "    <tr>\n",
              "      <th>1</th>\n",
              "      <td>4</td>\n",
              "      <td>7.47</td>\n",
              "    </tr>\n",
              "    <tr>\n",
              "      <th>2</th>\n",
              "      <td>2</td>\n",
              "      <td>9.59</td>\n",
              "    </tr>\n",
              "    <tr>\n",
              "      <th>3</th>\n",
              "      <td>0</td>\n",
              "      <td>6.42</td>\n",
              "    </tr>\n",
              "    <tr>\n",
              "      <th>4</th>\n",
              "      <td>6</td>\n",
              "      <td>8.72</td>\n",
              "    </tr>\n",
              "  </tbody>\n",
              "</table>\n",
              "</div>"
            ],
            "text/plain": [
              "   State  Yield (Quintal/ Hectare) \n",
              "0     11                       9.83\n",
              "1      4                       7.47\n",
              "2      2                       9.59\n",
              "3      0                       6.42\n",
              "4      6                       8.72"
            ]
          },
          "metadata": {
            "tags": []
          },
          "execution_count": 75
        }
      ]
    },
    {
      "cell_type": "code",
      "metadata": {
        "id": "beXX4ng0N9XN"
      },
      "source": [
        "X_train,X_test,y_train,y_test=train_test_split(X,Y)"
      ],
      "execution_count": 76,
      "outputs": []
    },
    {
      "cell_type": "code",
      "metadata": {
        "colab": {
          "base_uri": "https://localhost:8080/"
        },
        "id": "sjdhy06ZOAaV",
        "outputId": "c1a90b74-7771-4000-d72a-37f8991fdde9"
      },
      "source": [
        "from sklearn.linear_model import LinearRegression\n",
        "model = LinearRegression()\n",
        "model.fit(X_train,y_train)\n",
        "y_pred=model.predict(X_test)\n",
        "#r-squared for finding the fitness of the data\n",
        "print(r2_score(y_test,y_pred))"
      ],
      "execution_count": 77,
      "outputs": [
        {
          "output_type": "stream",
          "text": [
            "0.7005861399887972\n"
          ],
          "name": "stdout"
        }
      ]
    }
  ]
}