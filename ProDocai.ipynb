{
  "nbformat": 4,
  "nbformat_minor": 0,
  "metadata": {
    "colab": {
      "name": "ProDocai.ipynb",
      "provenance": [],
      "collapsed_sections": [],
      "authorship_tag": "ABX9TyPy/XPmxeH00e/xcpjvfYlQ",
      "include_colab_link": true
    },
    "kernelspec": {
      "name": "python3",
      "display_name": "Python 3"
    },
    "language_info": {
      "name": "python"
    }
  },
  "cells": [
    {
      "cell_type": "markdown",
      "metadata": {
        "id": "view-in-github",
        "colab_type": "text"
      },
      "source": [
        "<a href=\"https://colab.research.google.com/github/SowmyaMadala/ML-Projects/blob/main/ProDocai.ipynb\" target=\"_parent\"><img src=\"https://colab.research.google.com/assets/colab-badge.svg\" alt=\"Open In Colab\"/></a>"
      ]
    },
    {
      "cell_type": "code",
      "metadata": {
        "colab": {
          "base_uri": "https://localhost:8080/"
        },
        "id": "UnC6bFY9H_iR",
        "outputId": "00b2a148-a386-4ee1-fea8-a77f266a383c"
      },
      "source": [
        "pip install pydub"
      ],
      "execution_count": 2,
      "outputs": [
        {
          "output_type": "stream",
          "text": [
            "Collecting pydub\n",
            "  Downloading https://files.pythonhosted.org/packages/a6/53/d78dc063216e62fc55f6b2eebb447f6a4b0a59f55c8406376f76bf959b08/pydub-0.25.1-py2.py3-none-any.whl\n",
            "Installing collected packages: pydub\n",
            "Successfully installed pydub-0.25.1\n"
          ],
          "name": "stdout"
        }
      ]
    },
    {
      "cell_type": "markdown",
      "metadata": {
        "id": "I0LGn8V4PLMX"
      },
      "source": [
        "**To Append MP3 Audio files**"
      ]
    },
    {
      "cell_type": "code",
      "metadata": {
        "id": "Opf83IoZSMzF"
      },
      "source": [
        "from pydub import AudioSegment"
      ],
      "execution_count": 3,
      "outputs": []
    },
    {
      "cell_type": "code",
      "metadata": {
        "id": "Czmp2ZeSIIo_"
      },
      "source": [
        "#first audio file\n",
        "audio1= AudioSegment.from_mp3('/content/file_example_MP3_1MG.mp3')\n",
        "#second audio file\n",
        "audio2= AudioSegment.from_mp3('/content/ff-16b-1c-44100hz.mp3')\n",
        "combined = audio1 + audio2\n",
        "#combined audio file will be automatically downlaoded\n",
        "outputaudio = combined.export(\"output.mp3\", format=\"mp3\")"
      ],
      "execution_count": 6,
      "outputs": []
    },
    {
      "cell_type": "code",
      "metadata": {
        "id": "4VZqQIB2Lm7p"
      },
      "source": [
        "combined1 = audio1.overlay(audio2)\n",
        "overlappingaudio=combined.export(\"overlap.mp3\", format=\"mp3\")"
      ],
      "execution_count": 7,
      "outputs": []
    }
  ]
}